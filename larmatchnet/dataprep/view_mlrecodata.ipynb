{
 "cells": [
  {
   "cell_type": "code",
   "execution_count": null,
   "metadata": {},
   "outputs": [],
   "source": [
    "import os,sys\n",
    "import torch\n",
    "import numpy as np\n",
    "import yaml\n",
    "import chart_studio.plotly as py\n",
    "import plotly\n",
    "import plotly.graph_objects as go\n",
    "from plotly.offline import iplot, init_notebook_mode\n",
    "init_notebook_mode(connected=False)\n",
    "\n",
    "SOFTWARE_DIR = '/home/twongjirad/working/larbys/lartpc_mlreco3d/'\n",
    "sys.path.insert(0, SOFTWARE_DIR)\n",
    "from mlreco.visualization import scatter_points, plotly_layout3d\n",
    "from mlreco.visualization.gnn import scatter_clusters, network_topology, network_schematic\n",
    "from mlreco.utils.ppn import uresnet_ppn_type_point_selector\n",
    "from mlreco.utils.cluster.dense_cluster import fit_predict_np, gaussian_kernel\n",
    "from mlreco.main_funcs import process_config, prepare\n",
    "#from mlreco.utils.gnn.cluster import get_cluster_label\n",
    "#from mlreco.utils.deghosting import adapt_labels_numpy as adapt_labels\n",
    "from mlreco.visualization.gnn import network_topology"
   ]
  },
  {
   "cell_type": "code",
   "execution_count": null,
   "metadata": {},
   "outputs": [],
   "source": [
    "# WE ARE USING LARCV1 (the submodule included in the ICDL repository)\n",
    "import ROOT as rt\n",
    "from larcv import larcv\n",
    "from larlite import larlite\n",
    "from larflow import larflow\n",
    "from ROOT import larutil"
   ]
  },
  {
   "cell_type": "code",
   "execution_count": null,
   "metadata": {},
   "outputs": [],
   "source": [
    "# SETUP GEOMETRY: FOR VISUALIZATION\n",
    "DETECTOR = \"uboone\"\n",
    "\n",
    "if DETECTOR == \"icarus\":\n",
    "    detid = larlite.geo.kICARUS\n",
    "elif DETECTOR == \"uboone\":\n",
    "    detid = larlite.geo.kMicroBooNE\n",
    "elif DETECTOR == \"sbnd\":\n",
    "    detid = larlite.geo.kSBND\n",
    "    \n",
    "larutil.LArUtilConfig.SetDetector(detid)\n",
    "\n",
    "import lardly\n",
    "from lardly.detectoroutline import get_tpc_boundary_plot\n",
    "\n",
    "tpclines = get_tpc_boundary_plot()"
   ]
  },
  {
   "cell_type": "code",
   "execution_count": null,
   "metadata": {},
   "outputs": [],
   "source": [
    "# SETUP DATA LOADERS\n",
    "datapath=\"/home/twongjirad/working/larbys/icarus/icdl/larflow/larmatchnet/dataprep/test.root\"\n",
    "\n",
    "cfg = \"\"\"\n",
    "iotool:\n",
    "  batch_size: 1\n",
    "  shuffle: False\n",
    "  num_workers: 1\n",
    "  collate_fn: CollateSparse\n",
    "  dataset:\n",
    "    name: LArCVDataset\n",
    "    data_keys:\n",
    "      - %s\n",
    "    limit_num_files: 10\n",
    "    #event_list: '[6436, 562, 3802, 6175, 15256]'\n",
    "    schema:\n",
    "      input_data:\n",
    "        - parse_sparse3d\n",
    "        - sparse3d_charge_plane0\n",
    "        - sparse3d_charge_plane1\n",
    "        - sparse3d_charge_plane2\n",
    "      segment_label:\n",
    "        - parse_sparse3d\n",
    "        - sparse3d_semantics_ghost\n",
    "      particles_label:\n",
    "        - parse_particle_points\n",
    "        - sparse3d_charge_plane2\n",
    "        - particle_corrected\n",
    "\"\"\"%(datapath)"
   ]
  },
  {
   "cell_type": "code",
   "execution_count": null,
   "metadata": {
    "scrolled": false
   },
   "outputs": [],
   "source": [
    "cfg=yaml.load(cfg,Loader=yaml.Loader)\n",
    "# pre-process configuration (checks + certain non-specified default settings)\n",
    "process_config(cfg)\n",
    "# prepare function configures necessary \"handlers\"\n",
    "hs=prepare(cfg)"
   ]
  },
  {
   "cell_type": "code",
   "execution_count": null,
   "metadata": {},
   "outputs": [],
   "source": [
    "data = next(hs.data_io_iter)\n",
    "data.keys()\n",
    "# input_data: [N,C]\n",
    "# C = (i,j,k,b,feat1,feat2,...)\n",
    "print('input_data: ',data['input_data'].shape) \n",
    "print('segment_label: ',data['segment_label'].shape)\n",
    "print('particles_label: ',data['particles_label'].shape)"
   ]
  },
  {
   "cell_type": "code",
   "execution_count": null,
   "metadata": {},
   "outputs": [],
   "source": [
    "entry = 0\n",
    "print(\"select shape: \",np.sum(data['input_data'][:, 0] == entry))\n",
    "input_data = data['input_data'][ (data['input_data'][:, 0].astype(np.int32) == entry),:]\n",
    "segment_label = data['segment_label'][data['segment_label'][:, 0] == entry, -1]\n",
    "particles_label = data['particles_label'][data['particles_label'][:, 0] == entry]\n",
    "print(\"input_data.shape: \",input_data.shape)\n",
    "print(\"segment_label.shape: \",segment_label.shape)\n",
    "print(\"particles_label.shape: \",particles_label.shape)"
   ]
  },
  {
   "cell_type": "code",
   "execution_count": null,
   "metadata": {},
   "outputs": [],
   "source": [
    "trace = []\n",
    "\n",
    "ADC_MAX = 100.0\n",
    "\n",
    "# ADD ALL POINTS\n",
    "# trace+= scatter_points(input_data,markersize=1,color=input_data[:, -2], cmin=0,cmax=ADC_MAX)\n",
    "# trace[-1].name = 'input_data'\n",
    "# trace[-1].marker.colorscale='viridis'\n",
    "\n",
    "# ADD ALL NON-GHOST POINTS\n",
    "trace+= scatter_points(input_data[segment_label < 5],markersize=1,color=input_data[segment_label < 5, -2], cmin=0,cmax=ADC_MAX)\n",
    "trace[-1].name = 'input_data (true noghost)'\n",
    "trace[-1].marker.colorscale='viridis'\n",
    "\n",
    "fig = go.Figure(data=trace,layout=plotly_layout3d())\n",
    "fig.update_layout(legend=dict(x=1.0, y=0.8))\n",
    "\n",
    "iplot(fig)"
   ]
  },
  {
   "cell_type": "code",
   "execution_count": null,
   "metadata": {},
   "outputs": [],
   "source": [
    "# SEMANTIC LABELS\n",
    "trace = []\n",
    "\n",
    "trace+= scatter_points(input_data,markersize=1,color=segment_label, cmin=0,cmax=5, colorscale=plotly.colors.qualitative.D3)\n",
    "trace[-1].name = 'Semantic segmentation labels (including ghost points)'\n",
    "trace[-1].marker.colorscale='viridis'\n",
    "\n",
    "#trace+= scatter_points(input_data[segment_label < 5],markersize=1,color=segment_label[segment_label < 5], cmin=0,cmax=5, colorscale=plotly.colors.qualitative.D3)\n",
    "#trace[-1].name = 'Semantic segmentation labels (w/o ghost points)'\n",
    "#trace[-1].marker.colorscale='viridis'\n",
    "\n",
    "fig = go.Figure(data=trace,layout=plotly_layout3d())\n",
    "fig.update_layout(legend=dict(x=1.0, y=0.8))\n",
    "\n",
    "iplot(fig)"
   ]
  },
  {
   "cell_type": "code",
   "execution_count": null,
   "metadata": {},
   "outputs": [],
   "source": []
  }
 ],
 "metadata": {
  "kernelspec": {
   "display_name": "Python 3 (ipykernel)",
   "language": "python",
   "name": "python3"
  },
  "language_info": {
   "codemirror_mode": {
    "name": "ipython",
    "version": 3
   },
   "file_extension": ".py",
   "mimetype": "text/x-python",
   "name": "python",
   "nbconvert_exporter": "python",
   "pygments_lexer": "ipython3",
   "version": "3.9.7"
  }
 },
 "nbformat": 4,
 "nbformat_minor": 2
}
