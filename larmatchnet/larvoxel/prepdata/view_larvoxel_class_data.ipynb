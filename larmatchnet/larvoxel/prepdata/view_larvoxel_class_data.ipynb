{
 "cells": [
  {
   "cell_type": "code",
   "execution_count": null,
   "metadata": {},
   "outputs": [],
   "source": [
    "from __future__ import print_function\n",
    "import os,sys\n",
    "import chart_studio as cs\n",
    "import chart_studio.plotly as py\n",
    "import plotly.graph_objects as go\n",
    "import numpy as np\n",
    "import torch\n",
    "from larvoxel.larvoxelclass_dataset import larvoxelClassDataset\n",
    "from detectoroutline import DetectorOutline"
   ]
  },
  {
   "cell_type": "code",
   "execution_count": null,
   "metadata": {},
   "outputs": [],
   "source": [
    "# load utility to draw TPC outline\n",
    "detdata = DetectorOutline()\n",
    "\n",
    "# define some colors for particle types\n",
    "ssnet_color_array = np.array( ((0,0,0),      # bg\n",
    "                               (255,0,0),    # electron\n",
    "                               (0,255,0),    # gamma\n",
    "                               (0,0,255),    # muon\n",
    "                               (255,0,255),  # pion\n",
    "                               (0,255,255),  # proton\n",
    "                               (0,0,0)),     # other\n",
    "                               dtype=np.float64 ) \n",
    "\n",
    "larcvpid2class = {0:0,#unknown -> bg\n",
    "                  1:0,#cosmic -> bg\n",
    "                  2:0,#bnb -> bg\n",
    "                  3:1,#eminus->electron\n",
    "                  4:2,#gamma->gamma\n",
    "                  5:2,#pizero->gamma\n",
    "                  6:3,#muon->muon\n",
    "                  7:4,#kaon->other\n",
    "                  8:4,#pion->pion\n",
    "                  9:5,#proton->proton\n",
    "                 }"
   ]
  },
  {
   "cell_type": "code",
   "execution_count": null,
   "metadata": {
    "scrolled": false
   },
   "outputs": [],
   "source": [
    "# DATA LOADER\n",
    "batch_size = 1\n",
    "test = larvoxelClassDataset( filelist=[\"test_bnbnue_electron.root\",\"test_bnbnu_gamma.root\",\"test_bnbnu_muon.root\",\"test_bnbnu_pion.root\",\"test_bnbnu_proton.root\"],\n",
    "                             random_access=True, \n",
    "                             load_truth=True)\n",
    "print(\"NENTRIES: \",len(test))\n",
    "loader = torch.utils.data.DataLoader(test,\n",
    "                                     batch_size=batch_size,\n",
    "                                     collate_fn=larvoxelClassDataset.collate_fn)\n"
   ]
  },
  {
   "cell_type": "code",
   "execution_count": null,
   "metadata": {},
   "outputs": [],
   "source": [
    "# Get entry data\n",
    "batch = next(iter(loader))\n",
    "nvoxels = batch[0][\"coord\"].shape[0]\n",
    "# We need to retrieved the 3d positions\n",
    "pos3d = batch[0][\"coord\"].astype(np.float64)*0.3\n",
    "pos3d[:,1] -= 117.0 \n",
    "print(pos3d.shape)\n",
    "print(\"PID: \",batch[0][\"pid\"])"
   ]
  },
  {
   "cell_type": "code",
   "execution_count": null,
   "metadata": {},
   "outputs": [],
   "source": [
    "# Plot Particle\n",
    "print(\"PID: \",batch[0][\"pid\"])\n",
    "no_ghost_points = True\n",
    "pos = pos3d\n",
    "#labelcol = (np.clip( batch[0][\"feat\"], 0, 3.0 )/3.0)[:,2]\n",
    "labelcol = np.mean( np.clip( batch[0][\"feat\"], 0, 3.0 )/3.0,axis=1 )\n",
    "ave3d = np.mean(pos,axis=0,keepdims=True).squeeze()\n",
    "ave3d[0] += 125.0\n",
    "ave3d[2] -= 1036\n",
    "ave3d[0] /= 256\n",
    "ave3d[1] /= 117.0\n",
    "ave3d[2] /= 1036\n",
    "\n",
    "print(ave3d)\n",
    "print(labelcol.shape)\n",
    "\n",
    "particle_plot = {\n",
    "    \"type\":\"scatter3d\",\n",
    "    \"x\":pos[:,0],\n",
    "    \"y\":pos[:,1],\n",
    "    \"z\":pos[:,2],\n",
    "        \"mode\":\"markers\",\n",
    "        \"name\":\"particle\",\n",
    "        \"marker\":{\"color\":labelcol,\"size\":1,\"colorscale\":\"Viridis\"}\n",
    "    }\n",
    "\n",
    "detlines = detdata.getlines(color=(10,10,10))\n",
    "\n",
    "# DATA\n",
    "particle_plot_data = [particle_plot] + detdata.getlines(color=(10,10,10))\n",
    "\n",
    "# LAYOUT\n",
    "axis_template = {\n",
    "    \"showbackground\": True,\n",
    "    \"backgroundcolor\": \"rgba(100, 100, 100,0.5)\",\n",
    "    \"gridcolor\": \"rgb(50, 50, 50)\",\n",
    "    \"zerolinecolor\": \"rgb(0, 0, 0)\",\n",
    "}\n",
    "\n",
    "\n",
    "layout = go.Layout(\n",
    "    title='SINGLE PARTICLE VOXELS',\n",
    "    autosize=True,\n",
    "    hovermode='closest',\n",
    "    showlegend=False,\n",
    "    scene= {\n",
    "        \"xaxis\": axis_template,\n",
    "        \"yaxis\": axis_template,\n",
    "        \"zaxis\": axis_template,\n",
    "        \"aspectratio\": {\"x\": 1, \"y\": 1, \"z\": 3},\n",
    "        \"camera\": {\"eye\": {\"x\": ave3d[0]+0.1, \"y\": ave3d[1], \"z\": ave3d[2]},\n",
    "                   \"center\":dict(x=ave3d[0], y=ave3d[1], z=ave3d[2]),\n",
    "                   \"up\":dict(x=0, y=1, z=0)},\n",
    "        \"annotations\": [],\n",
    "    }\n",
    ")\n",
    "\n",
    "fig = go.Figure(data=particle_plot_data, layout=layout)\n",
    "fig.show()"
   ]
  },
  {
   "cell_type": "code",
   "execution_count": null,
   "metadata": {},
   "outputs": [],
   "source": [
    "# NOTES\n",
    "# Probably need to do a DB-scan and remove detached small, low-charge sub-clusters. \n",
    "# I suspect these can be used to build a unique code to overtrain on.\n",
    "# Plot the space-charge corrected track to verify charge cluster\n",
    "# several deposits start at x>250 -- weird. i had cut on true position already "
   ]
  }
 ],
 "metadata": {
  "kernelspec": {
   "display_name": "Python 3 (ipykernel)",
   "language": "python",
   "name": "python3"
  },
  "language_info": {
   "codemirror_mode": {
    "name": "ipython",
    "version": 3
   },
   "file_extension": ".py",
   "mimetype": "text/x-python",
   "name": "python",
   "nbconvert_exporter": "python",
   "pygments_lexer": "ipython3",
   "version": "3.9.7"
  }
 },
 "nbformat": 4,
 "nbformat_minor": 2
}
