{
 "cells": [
  {
   "cell_type": "code",
   "execution_count": null,
   "id": "eb22f194",
   "metadata": {},
   "outputs": [],
   "source": [
    "import os,sys\n",
    "import numpy as np\n",
    "import chart_studio as cs\n",
    "import chart_studio.plotly as py\n",
    "import plotly.graph_objects as go"
   ]
  },
  {
   "cell_type": "code",
   "execution_count": null,
   "id": "f14e242e",
   "metadata": {},
   "outputs": [],
   "source": [
    "import mmcv\n",
    "import torch\n",
    "from mmcv.runner import init_dist\n",
    "from mmcv.utils import Config, build_from_cfg, DictAction, get_git_hash\n",
    "\n",
    "from mmseg import __version__\n",
    "from mmseg.apis import set_random_seed, train_segmentor\n",
    "from mmseg.datasets import build_dataset\n",
    "from mmseg.models import build_segmentor\n",
    "from mmseg.utils import collect_env, get_root_logger\n",
    "\n",
    "import xcit.semantic_segmentation\n",
    "from xcit.semantic_segmentation.backbone import xcit\n",
    "from mmseg.models.builder import BACKBONES,SEGMENTORS\n",
    "BACKBONES.register_module('XCiT',True,xcit.XCiT)"
   ]
  },
  {
   "cell_type": "code",
   "execution_count": null,
   "id": "c01c7b9d",
   "metadata": {},
   "outputs": [],
   "source": [
    "print(BACKBONES)"
   ]
  },
  {
   "cell_type": "code",
   "execution_count": null,
   "id": "ff7dd1f7",
   "metadata": {},
   "outputs": [],
   "source": [
    "# LOAD MODEL CONFIG\n",
    "from mmcv.utils import Config\n",
    "cfg = Config.fromfile(\"xcit/semantic_segmentation/configs/xcit/sem_fpn/sem_fpn_xcit_medium_24_p8_80k_ublarcv.py\")\n",
    "cfg.model.backbone['in_chans'] = 1\n",
    "print(cfg.model)"
   ]
  },
  {
   "cell_type": "code",
   "execution_count": null,
   "id": "c161a88e",
   "metadata": {},
   "outputs": [],
   "source": [
    "DEVICE = torch.device('cuda:0')"
   ]
  },
  {
   "cell_type": "code",
   "execution_count": null,
   "id": "93d4d4dd",
   "metadata": {},
   "outputs": [],
   "source": [
    "model = build_segmentor(\n",
    "        cfg.model,\n",
    "        train_cfg=cfg.get('train_cfg'),\n",
    "        test_cfg=cfg.get('test_cfg')).to(DEVICE)"
   ]
  },
  {
   "cell_type": "code",
   "execution_count": null,
   "id": "63c2a932",
   "metadata": {
    "scrolled": false
   },
   "outputs": [],
   "source": [
    "print(model)"
   ]
  },
  {
   "cell_type": "code",
   "execution_count": null,
   "id": "53a92748",
   "metadata": {},
   "outputs": [],
   "source": [
    "import ROOT as rt\n",
    "from larmatch_dataset import larmatchDataset"
   ]
  },
  {
   "cell_type": "code",
   "execution_count": null,
   "id": "ad259f97",
   "metadata": {},
   "outputs": [],
   "source": [
    "batch_size=1\n",
    "test = larmatchDataset( filefolder=\"./\", random_access=True )\n",
    "print(\"NENTRIES: \",len(test))\n",
    "    \n",
    "loader = torch.utils.data.DataLoader(test,batch_size=batch_size,collate_fn=larmatchDataset.collate_fn)"
   ]
  },
  {
   "cell_type": "code",
   "execution_count": null,
   "id": "843c4d8a",
   "metadata": {},
   "outputs": [],
   "source": [
    "# Get data\n",
    "batch = next(iter(loader))\n",
    "print(batch[0].keys())"
   ]
  },
  {
   "cell_type": "code",
   "execution_count": null,
   "id": "19b5921e",
   "metadata": {},
   "outputs": [],
   "source": [
    "# check sparse image\n",
    "for p in range(3):\n",
    "    num_unique = np.unique( batch[0]['coord_%d'%(p)], axis=0 ).shape[0]\n",
    "    print(\"plane \",p)\n",
    "    print(\"  coord shape: \",batch[0]['coord_%d'%(p)].shape)\n",
    "    print(\"  num unique: \",num_unique)"
   ]
  },
  {
   "cell_type": "code",
   "execution_count": null,
   "id": "ac00000d",
   "metadata": {},
   "outputs": [],
   "source": [
    "# make a dense y-plane\n",
    "imgy = np.zeros( (1024, 3456), dtype=np.float32)\n",
    "coord = batch[0]['coord_2']\n",
    "feat  = batch[0]['feat_2']\n",
    "imgy[ coord[:,0], coord[:,1] ] = feat[:,0]\n",
    "print(imgy.shape)"
   ]
  },
  {
   "cell_type": "code",
   "execution_count": null,
   "id": "cd82e981",
   "metadata": {},
   "outputs": [],
   "source": [
    "# look at the image\n",
    "\n",
    "plotimg = np.clip(imgy,0,255)\n",
    "\n",
    "xaxis = np.linspace( 0, 3456, endpoint=False, num=3456 )\n",
    "yaxis = np.linspace( 2400, 2400+1024*6, endpoint=False, num=1024 )\n",
    "\n",
    "layout_yplane = go.Layout(\n",
    "    title='Y-PLANE WIRE IMAGE',\n",
    "    autosize=True,\n",
    "    hovermode='closest',\n",
    "    showlegend=False)\n",
    "    \n",
    "heatmap = {\n",
    "    #\"type\":\"heatmapgl\",                                                                                                                                                                  \n",
    "    \"type\":\"heatmap\",\n",
    "    \"z\":plotimg,\n",
    "    \"x\":xaxis,\n",
    "    \"y\":yaxis,\n",
    "    \"colorscale\":\"Jet\",\n",
    "}\n",
    "\n",
    "fig = go.Figure(data=[heatmap],layout=layout_yplane)\n",
    "fig.show()"
   ]
  },
  {
   "cell_type": "code",
   "execution_count": null,
   "id": "31101024",
   "metadata": {},
   "outputs": [],
   "source": [
    "\"\"\"\n",
    "    parser.add_argument('--world_size', default=1, type=int,\n",
    "                        help='number of distributed processes')\n",
    "    parser.add_argument('--dist_url', default='env://', help='url used to set up distributed training')\n",
    "    parser.add_argument('--test-freq', default=1, type=int, help='Number of epochs between \\                                                                                                  \n",
    "                                                                  validation runs.')\n",
    "\n",
    "    parser.add_argument('--full_crop', action='store_true', help='use crop_ratio=1.0 instead of the\\                                                                                          \n",
    "                                                                  default 0.875 (Used by CaiT).')\n",
    "    parser.add_argument(\"--pretrained\", default=None, type=str, help='Path to pre-trained checkpoint')\n",
    "    parser.add_argument('--surgery', default=None, type=str, help='Path to checkpoint to copy the \\                                                                                           \n",
    "                                                                   patch projection from. \\                                                                                                   \n",
    "                                                                   Can improve stability for very \\                                                                                           \n",
    "                                                                   large models.')\n",
    "\n",
    "\"\"\"\n",
    "# os.environ[\"RANK\"] = '0'\n",
    "# os.environ['WORLD_SIZE'] = '1'\n",
    "# os.environ['LOCAL_RANK'] = '0'\n",
    "# os.environ['MASTER_ADDR'] = '128.0.0.0'\n",
    "# os.environ['MASTER_PORT'] = '8001'\n",
    "\n",
    "# class HackArgs:\n",
    "#     def __init__(self):\n",
    "#         self.world_size = 1\n",
    "#         self.dist_url = 'env://'\n",
    "#         self.test_freq = 1\n",
    "#         self.full_crop = False\n",
    "#         self.pretrained = None\n",
    "#         self.surgery = None\n",
    "        \n",
    "# args = HackArgs()\n",
    "        \n",
    "# util.init_distributed_mode(args)"
   ]
  },
  {
   "cell_type": "code",
   "execution_count": null,
   "id": "7596b179",
   "metadata": {},
   "outputs": [],
   "source": [
    "print(\"min: \",np.min(imgy))\n",
    "print(\"max: \",np.max(imgy))"
   ]
  },
  {
   "cell_type": "code",
   "execution_count": null,
   "id": "e42dbc54",
   "metadata": {},
   "outputs": [],
   "source": [
    "img_t = torch.from_numpy(imgy.reshape((1,1,1024,3456))).to(DEVICE)\n",
    "img_t.shape"
   ]
  },
  {
   "cell_type": "code",
   "execution_count": null,
   "id": "a51527c9",
   "metadata": {
    "scrolled": false
   },
   "outputs": [],
   "source": [
    "with torch.no_grad():\n",
    "    out = model.forward_dummy(img_t)\n",
    "    for n,subout in enumerate(out):\n",
    "        print(\"[%d] \"%(n),subout.shape)"
   ]
  },
  {
   "cell_type": "code",
   "execution_count": null,
   "id": "1f9c179b",
   "metadata": {},
   "outputs": [],
   "source": []
  },
  {
   "cell_type": "code",
   "execution_count": null,
   "id": "b33225b2",
   "metadata": {},
   "outputs": [],
   "source": [
    "#cfg\n",
    "type(REGISTRY)\n",
    "type(cfg)\n",
    "print(REGISTRY)"
   ]
  },
  {
   "cell_type": "code",
   "execution_count": null,
   "id": "50f8397b",
   "metadata": {},
   "outputs": [],
   "source": [
    "\n"
   ]
  },
  {
   "cell_type": "code",
   "execution_count": null,
   "id": "4b81986f",
   "metadata": {},
   "outputs": [],
   "source": []
  }
 ],
 "metadata": {
  "kernelspec": {
   "display_name": "Python 3 (ipykernel)",
   "language": "python",
   "name": "python3"
  },
  "language_info": {
   "codemirror_mode": {
    "name": "ipython",
    "version": 3
   },
   "file_extension": ".py",
   "mimetype": "text/x-python",
   "name": "python",
   "nbconvert_exporter": "python",
   "pygments_lexer": "ipython3",
   "version": "3.9.5"
  }
 },
 "nbformat": 4,
 "nbformat_minor": 5
}
