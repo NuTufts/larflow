{
 "cells": [
  {
   "cell_type": "code",
   "execution_count": null,
   "id": "9e69a95f",
   "metadata": {},
   "outputs": [],
   "source": [
    "from __future__ import print_function\n",
    "import os,sys\n",
    "import ROOT as rt\n",
    "from larlite import larlite\n",
    "from ROOT import larutil\n",
    "import chart_studio.plotly as py\n",
    "import plotly.graph_objects as go\n",
    "import numpy as np\n",
    "import lardly"
   ]
  },
  {
   "cell_type": "code",
   "execution_count": null,
   "id": "fe57902e",
   "metadata": {},
   "outputs": [],
   "source": [
    "# LOAD THE FILE\n",
    "triplet_files = [\"test.root\"]\n",
    "tree = rt.TChain(\"larmatchtriplet\")\n",
    "for f in triplet_files:\n",
    "    tree.AddFile( f )\n",
    "nentries = tree.GetEntries()\n",
    "print(\"Num entries: \",nentries)"
   ]
  },
  {
   "cell_type": "code",
   "execution_count": null,
   "id": "561ffac4",
   "metadata": {},
   "outputs": [],
   "source": [
    "# SETUP THE GEOMETRY\n",
    "\n",
    "# Set the detector in larlite\n",
    "detid = larlite.geo.kICARUS\n",
    "#detid = larlite.geo.kMicroBooNE\n",
    "#detid = larlite.geo.kSBND\n",
    "larutil.LArUtilConfig.SetDetector(detid)\n",
    "\n",
    "# Get geometry class\n",
    "geo = larlite.larutil.Geometry.GetME()\n",
    "\n",
    "# Get detector outlines from lardly\n",
    "from lardly.detectors.getdetectoroutlines import DetectorOutlineFromLarlite\n",
    "detoutline = DetectorOutlineFromLarlite(detid)\n",
    "detlines = detoutline.getlines()"
   ]
  },
  {
   "cell_type": "code",
   "execution_count": null,
   "id": "27092cb6",
   "metadata": {},
   "outputs": [],
   "source": [
    "# Get entry data\n",
    "ENTRY = 0\n",
    "tree.GetEntry(ENTRY)\n",
    "\n",
    "spacepoint_arrays = []\n",
    "for imatchdata in range(tree.triplet_v.size()):\n",
    "    matchdata = tree.triplet_v.at(imatchdata)\n",
    "    ntriplets = matchdata._triplet_v.size() # needs function\n",
    "    if ntriplets==0:\n",
    "        continue\n",
    "    icryo = matchdata._trip_cryo_tpc_v.at(0).at(0) # needs function\n",
    "    itpc  = matchdata._trip_cryo_tpc_v.at(0).at(1) # needs function\n",
    "    \n",
    "    spdata = matchdata.make_spacepoint_charge_array()\n",
    "    print(spdata['spacepoint_t'].shape)\n",
    "    spacepoint_arrays.append( (icryo,itpc,spdata[\"spacepoint_t\"]) )"
   ]
  },
  {
   "cell_type": "code",
   "execution_count": null,
   "id": "443e1607",
   "metadata": {},
   "outputs": [],
   "source": [
    "\n",
    "sp_plots = []\n",
    "for (icryo,itpc,pos) in spacepoint_arrays:\n",
    "    q = np.clip( np.average( pos[:,3:], axis=1 ), 0, 100 )\n",
    "    plot = go.Scatter3d( x=pos[:,0], y=pos[:,1], z=pos[:,2], \n",
    "                        mode=\"markers\", name=\"(%d,%d)\"%(icryo,itpc), \n",
    "                        marker={\"size\":0.5,\"opacity\":0.1,\"color\":q,\"colorscale\":\"Viridis\"} )  \n",
    "    sp_plots.append(plot)\n",
    "\n",
    "axis_template = {\n",
    "    \"showbackground\": True,\n",
    "    \"backgroundcolor\": \"rgba(100, 100, 100,0.5)\",\n",
    "    \"gridcolor\": \"rgb(50, 50, 50)\",\n",
    "    \"zerolinecolor\": \"rgb(0, 0, 0)\",\n",
    "}\n",
    "\n",
    "\n",
    "layout = go.Layout(\n",
    "    title='DETECTOR TPC',\n",
    "    autosize=True,\n",
    "    hovermode='closest',\n",
    "    showlegend=False,\n",
    "    scene= {\n",
    "        \"xaxis\": axis_template,\n",
    "        \"yaxis\": axis_template,\n",
    "        \"zaxis\": axis_template,\n",
    "        \"aspectratio\": {\"x\": 2, \"y\": 1, \"z\": 2},\n",
    "        \"camera\": {\"eye\": {\"x\": -3, \"y\": 0.1, \"z\": 0.0},\n",
    "                   \"center\":dict(x=0, y=0, z=0),\n",
    "                   \"up\":dict(x=0, y=1, z=0)},\n",
    "        \"annotations\": [],\n",
    "    }\n",
    ")\n",
    "\n",
    "fig = go.Figure(data=sp_plots+detlines, layout=layout)\n",
    "fig.show()\n",
    " "
   ]
  },
  {
   "cell_type": "code",
   "execution_count": null,
   "id": "75a1791d",
   "metadata": {},
   "outputs": [],
   "source": []
  }
 ],
 "metadata": {
  "kernelspec": {
   "display_name": "Python 3 (ipykernel)",
   "language": "python",
   "name": "python3"
  },
  "language_info": {
   "codemirror_mode": {
    "name": "ipython",
    "version": 3
   },
   "file_extension": ".py",
   "mimetype": "text/x-python",
   "name": "python",
   "nbconvert_exporter": "python",
   "pygments_lexer": "ipython3",
   "version": "3.9.7"
  }
 },
 "nbformat": 4,
 "nbformat_minor": 5
}
