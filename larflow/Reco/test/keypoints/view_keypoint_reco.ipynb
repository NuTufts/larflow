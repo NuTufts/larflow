{
 "cells": [
  {
   "cell_type": "markdown",
   "metadata": {},
   "source": [
    "This notebook plots the output of the script `run_keypointreco.py`.\n",
    "\n",
    "It takes in:\n",
    " * the larmatch output larlite file that stores the output of the larmatch network\n",
    " * the keypoint output larlite file that stores the output of run_keypointreco.py\n",
    " * optionally, if the mcinfo or dlmerged files is provided that contains truth meta data, then one can also plot the true trajectories of particles"
   ]
  },
  {
   "cell_type": "code",
   "execution_count": null,
   "metadata": {},
   "outputs": [],
   "source": [
    "from __future__ import print_function\n",
    "import os,sys\n",
    "import chart_studio as cs\n",
    "import chart_studio.plotly as py\n",
    "import plotly.graph_objects as go\n",
    "import numpy as np\n",
    "import torch\n",
    "from larlite import larlite\n",
    "import lardly\n",
    "from lardly import DetectorOutline"
   ]
  },
  {
   "cell_type": "code",
   "execution_count": null,
   "metadata": {},
   "outputs": [],
   "source": [
    "# load utility to draw TPC outline\n",
    "detdata = DetectorOutline()\n",
    "\n",
    "# define some colors for particle types\n",
    "kp_color_array = np.array( ((255,0,0),    # nu\n",
    "                            (0,255,0),    # track-start\n",
    "                            (0,0,255),    # track-end\n",
    "                            (255,0,255),  # shower\n",
    "                            (0,255,255),  # shower-michel\n",
    "                            (255,255,0)),     # shower-delta\n",
    "                            dtype=np.float64 ) "
   ]
  },
  {
   "cell_type": "code",
   "execution_count": null,
   "metadata": {},
   "outputs": [],
   "source": [
    "PLOT_MC = True"
   ]
  },
  {
   "cell_type": "code",
   "execution_count": null,
   "metadata": {
    "scrolled": false
   },
   "outputs": [],
   "source": [
    "# file lists\n",
    "\n",
    "# The input file\n",
    "#larmatch_files = [\"../testdata/mcc9_v29e_dl_run3b_bnb_nu_overlay_nocrtremerge/larmatchme_dlgen2.1_merged_dlreco_3ab3a878-3aea-4bc7-926e-bbb7554875f1_larlite.root\"]\n",
    "#kpreco_files = [\"test_kpreco.root\"]\n",
    "#mcinfo_files = [\"../testdata/mcc9_v29e_dl_run3b_bnb_nu_overlay_nocrtremerge/merged_dlreco_3ab3a878-3aea-4bc7-926e-bbb7554875f1.root\"]\n",
    "\n",
    "larmatch_files = [\"/home/twongjirad/working/larbys/ubdl/testdata/pi0select_bnb_nu/larmatchme_fileid0000_0020d30b-8b70-4b75-8841-dec0d65feb3f_merged_larlite.root\"]\n",
    "kpreco_files = [\"test_pi0.root\"]\n",
    "mcinfo_files = [\"/home/twongjirad/working/larbys/ubdl/testdata/pi0select_bnb_nu/pi0select_0020d30b-8b70-4b75-8841-dec0d65feb3f_merged.root\"]"
   ]
  },
  {
   "cell_type": "code",
   "execution_count": null,
   "metadata": {},
   "outputs": [],
   "source": [
    "io = larlite.storage_manager( larlite.storage_manager.kREAD )\n",
    "for f in larmatch_files:\n",
    "    io.add_in_filename( f )\n",
    "for f in kpreco_files:\n",
    "    io.add_in_filename( f )\n",
    "for f in mcinfo_files:\n",
    "    io.add_in_filename( f )\n",
    "io.open()"
   ]
  },
  {
   "cell_type": "code",
   "execution_count": null,
   "metadata": {},
   "outputs": [],
   "source": [
    "# Get entry and relevant data\n",
    "ENTRY = 0\n",
    "io.go_to(ENTRY)\n",
    "\n",
    "ev_larmatch_hits = io.get_data( larlite.data.kLArFlow3DHit, \"larmatch\" )\n",
    "ev_keypoints = io.get_data( larlite.data.kLArFlow3DHit, \"keypoint\" )\n",
    "\n",
    "npts = ev_keypoints.size()\n",
    "print(\"Number of Reco Keypoints: \",npts)\n",
    "kp_counts = [0,0,0,0,0,0]\n",
    "for i in range(npts):\n",
    "    kphit = ev_keypoints.at(i)\n",
    "    # data in the hit\n",
    "    # [0-2]: x,y,z\n",
    "    # [3]: keypoint type\n",
    "    # [4]: score\n",
    "    kptype = int(kphit[3])\n",
    "    kp_counts[kptype] += 1\n",
    "print(\"Counts: \",kp_counts)\n",
    "    \n",
    "kp_data = {}\n",
    "for kptype in range(6):\n",
    "    if kp_counts[kptype]==0:\n",
    "        continue\n",
    "    xyz = np.zeros( (kp_counts[kptype], 3), np.float32 )\n",
    "    kp_data[kptype] = xyz\n",
    "    \n",
    "kp_counts = [0,0,0,0,0,0]\n",
    "\n",
    "for i in range(npts):\n",
    "    kphit = ev_keypoints.at(i)\n",
    "    kptype = int(kphit[3])\n",
    "    xyz = kp_data[kptype]\n",
    "    for v in range(3):\n",
    "        xyz[kp_counts[kptype],v] = kphit[v]\n",
    "    kp_counts[kptype] += 1\n",
    "\n",
    "\n",
    "\n"
   ]
  },
  {
   "cell_type": "code",
   "execution_count": null,
   "metadata": {},
   "outputs": [],
   "source": [
    "# Plot Reconstructed Keypoints\n",
    "detlines = detdata.getlines(color=(10,10,10))\n",
    "score_index = 17 # nu\n",
    "#score_index = 18 # track-start\n",
    "#score_index = 19 # track-end\n",
    "#score_index = 20 # shower-start\n",
    "lfplot = lardly.data.visualize_larlite_larflowhits( ev_larmatch_hits, \"larmatch\", score_threshold=0.5, score_index=score_index)\n",
    "plot_traces = detlines+[lfplot]\n",
    "\n",
    "if PLOT_MC:\n",
    "    # Get MC info\n",
    "    mcinfoplots = lardly.data.visualize_nu_interaction(io, do_sce_correction=True )\n",
    "    plot_traces += mcinfoplots\n",
    "\n",
    "for kptype in [5,4,3,2,1,0]:\n",
    "    if kptype not in kp_data:\n",
    "        continue\n",
    "    rgb = kp_color_array[kptype]\n",
    "    xyz = kp_data[kptype]\n",
    "    zrgb = \"rgb(%d,%d,%d)\"%(rgb[0],rgb[1],rgb[2])\n",
    "    plot_trace = {\n",
    "        \"type\":\"scatter3d\",\n",
    "        \"x\": xyz[:,0],\n",
    "        \"y\": xyz[:,1],\n",
    "        \"z\": xyz[:,2],\n",
    "        \"mode\":\"markers\",\n",
    "        \"name\":\"KP[%d]\"%(kptype),\n",
    "        \"marker\":{\"color\":zrgb,\"size\":5,\"opacity\":0.8},\n",
    "    }\n",
    "    #print(plot_trace)\n",
    "    if kptype==0:\n",
    "        plot_traces += [plot_trace]\n",
    "    #break\n",
    "\n",
    "\n",
    "# LAYOUT\n",
    "axis_template = {\n",
    "    \"showbackground\": True,\n",
    "    \"backgroundcolor\": \"rgba(100, 100, 100,0.5)\",\n",
    "    \"gridcolor\": \"rgb(50, 50, 50)\",\n",
    "    \"zerolinecolor\": \"rgb(0, 0, 0)\",\n",
    "}\n",
    "\n",
    "\n",
    "layout = go.Layout(\n",
    "    title='Predicted Keypoints',\n",
    "    autosize=True,\n",
    "    hovermode='closest',\n",
    "    showlegend=False,\n",
    "    scene= {\n",
    "        \"xaxis\": axis_template,\n",
    "        \"yaxis\": axis_template,\n",
    "        \"zaxis\": axis_template,\n",
    "        \"aspectratio\": {\"x\": 1, \"y\": 1, \"z\": 3},\n",
    "        \"camera\": {\"eye\": {\"x\": -2, \"y\": 0.25, \"z\": 0.0},\n",
    "                   \"center\":dict(x=0, y=0, z=0),\n",
    "                   \"up\":dict(x=0, y=1, z=0)},\n",
    "        \"annotations\": [],\n",
    "    }\n",
    ")\n",
    "\n",
    "fig = go.Figure(data=plot_traces, layout=layout)\n",
    "fig.show()"
   ]
  },
  {
   "cell_type": "code",
   "execution_count": null,
   "metadata": {},
   "outputs": [],
   "source": [
    "# NOTES\n",
    "# Probably need to do a DB-scan and remove detached small, low-charge sub-clusters. [DONE!] \n",
    "# I suspect these can be used to build a unique code to overtrain on. [might not be the cause -- but definitely saw bad overtraining]\n",
    "# Plot the space-charge corrected track to verify charge cluster\n",
    "# several deposits start at x>250 -- weird. i had cut on true position already "
   ]
  },
  {
   "cell_type": "code",
   "execution_count": null,
   "metadata": {},
   "outputs": [],
   "source": []
  }
 ],
 "metadata": {
  "kernelspec": {
   "display_name": "Python 3 (ipykernel)",
   "language": "python",
   "name": "python3"
  },
  "language_info": {
   "codemirror_mode": {
    "name": "ipython",
    "version": 3
   },
   "file_extension": ".py",
   "mimetype": "text/x-python",
   "name": "python",
   "nbconvert_exporter": "python",
   "pygments_lexer": "ipython3",
   "version": "3.9.7"
  }
 },
 "nbformat": 4,
 "nbformat_minor": 2
}
